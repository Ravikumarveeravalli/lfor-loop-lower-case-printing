{
 "cells": [
  {
   "cell_type": "code",
   "execution_count": 4,
   "id": "b1454ff6",
   "metadata": {},
   "outputs": [
    {
     "name": "stdout",
     "output_type": "stream",
     "text": [
      " *** \n",
      "    *\n",
      "*****\n",
      "*   *\n",
      " *** *\n"
     ]
    }
   ],
   "source": [
    "a=1\n",
    "for a in range (6):\n",
    "    if a==1:\n",
    "        print(\" *** \")\n",
    "    if a==2:\n",
    "        print(\"    *\")\n",
    "    if a==3:\n",
    "        print(\"*****\")\n",
    "    if a==4:\n",
    "        print(\"*   *\")\n",
    "    if a==5:\n",
    "        print(\" *** *\")"
   ]
  },
  {
   "cell_type": "code",
   "execution_count": 5,
   "id": "27f8fe36",
   "metadata": {},
   "outputs": [
    {
     "name": "stdout",
     "output_type": "stream",
     "text": [
      "*    \n",
      "*    \n",
      "**** \n",
      "*   *\n",
      "****\n"
     ]
    }
   ],
   "source": [
    "a=1\n",
    "for a in range (6):\n",
    "    if a==1:\n",
    "        print(\"*    \")\n",
    "    if a==2:\n",
    "        print(\"*    \")\n",
    "    if a==3:\n",
    "        print(\"**** \")\n",
    "    if a==4:\n",
    "        print(\"*   *\")\n",
    "    if a==5:\n",
    "        print(\"****\")"
   ]
  },
  {
   "cell_type": "code",
   "execution_count": 6,
   "id": "fcbca016",
   "metadata": {},
   "outputs": [
    {
     "name": "stdout",
     "output_type": "stream",
     "text": [
      " ****\n",
      "*    \n",
      "*    \n",
      "*    \n",
      " ****\n"
     ]
    }
   ],
   "source": [
    "a=1\n",
    "for a in range(6):\n",
    "    if a==1:\n",
    "        print(\" ****\")\n",
    "    if a==2:\n",
    "        print(\"*    \")\n",
    "    if a==3:\n",
    "        print(\"*    \")\n",
    "    if a==4:\n",
    "        print(\"*    \")\n",
    "    if a==5:\n",
    "        print(\" ****\")"
   ]
  },
  {
   "cell_type": "code",
   "execution_count": 9,
   "id": "344f903d",
   "metadata": {},
   "outputs": [
    {
     "name": "stdout",
     "output_type": "stream",
     "text": [
      "    *\n",
      "    *\n",
      " ****\n",
      "*   *\n",
      " *** *\n"
     ]
    }
   ],
   "source": [
    "a=1\n",
    "for a in range(6):\n",
    "    if a==1:\n",
    "        print(\"    *\")\n",
    "    if a==2:\n",
    "        print(\"    *\")\n",
    "    if a==3:\n",
    "        print(\" ****\")\n",
    "    if a==4:\n",
    "        print(\"*   *\")\n",
    "    if a==5:\n",
    "        print(\" *** *\")"
   ]
  },
  {
   "cell_type": "code",
   "execution_count": 10,
   "id": "bc91ec1f",
   "metadata": {},
   "outputs": [
    {
     "name": "stdout",
     "output_type": "stream",
     "text": [
      " *** \n",
      "*   *\n",
      "**** \n",
      "*    \n",
      " ****\n"
     ]
    }
   ],
   "source": [
    "a=1\n",
    "for a in range(6):\n",
    "    if a==1:\n",
    "        print(\" *** \")\n",
    "    if a==2:\n",
    "        print(\"*   *\")\n",
    "    if a==3:\n",
    "        print(\"**** \")\n",
    "    if a==4:\n",
    "        print(\"*    \")\n",
    "    if a==5:\n",
    "        print(\" ****\")"
   ]
  },
  {
   "cell_type": "code",
   "execution_count": 13,
   "id": "62ba769b",
   "metadata": {},
   "outputs": [
    {
     "name": "stdout",
     "output_type": "stream",
     "text": [
      "   ***\n",
      "*****\n",
      "  *  \n",
      "  *  \n",
      "**   \n"
     ]
    }
   ],
   "source": [
    "a=1\n",
    "for a in range(6):\n",
    "    if a==1:\n",
    "        print(\"   ***\")\n",
    "    if a==2:\n",
    "        print(\"*****\")\n",
    "    if a==3:\n",
    "        print(\"  *  \")\n",
    "    if a==4:\n",
    "        print(\"  *  \")\n",
    "    if a==5:\n",
    "        print(\"**   \")\n",
    "        "
   ]
  },
  {
   "cell_type": "code",
   "execution_count": 14,
   "id": "2828e125",
   "metadata": {},
   "outputs": [
    {
     "name": "stdout",
     "output_type": "stream",
     "text": [
      " ****\n",
      "*   *\n",
      " ****\n",
      "    *\n",
      "****\n"
     ]
    }
   ],
   "source": [
    "a=1\n",
    "for a in range(6):\n",
    "    if a==1:\n",
    "        print(\" ****\")\n",
    "    if a==2:\n",
    "        print(\"*   *\")\n",
    "    if a==3:\n",
    "        print(\" ****\")\n",
    "    if a==4:\n",
    "        print(\"    *\")\n",
    "    if a==5:\n",
    "        print(\"****\")"
   ]
  },
  {
   "cell_type": "code",
   "execution_count": 15,
   "id": "a3ae96ea",
   "metadata": {},
   "outputs": [
    {
     "name": "stdout",
     "output_type": "stream",
     "text": [
      "*    \n",
      "*    \n",
      "**** \n",
      "*   *\n",
      "*   *\n"
     ]
    }
   ],
   "source": [
    "a=1\n",
    "for a in range(6):\n",
    "    if a==1:\n",
    "        print(\"*    \")\n",
    "    if a==2:\n",
    "        print(\"*    \")\n",
    "    if a==3:\n",
    "        print(\"**** \")\n",
    "    if a==4:\n",
    "        print(\"*   *\")\n",
    "    if a==5:\n",
    "        print(\"*   *\")"
   ]
  },
  {
   "cell_type": "code",
   "execution_count": 17,
   "id": "d191e345",
   "metadata": {},
   "outputs": [
    {
     "name": "stdout",
     "output_type": "stream",
     "text": [
      "  o  \n",
      "     \n",
      "  *  \n",
      "  *  \n",
      "  *  \n"
     ]
    }
   ],
   "source": [
    "a=1 \n",
    "for a in range(6):\n",
    "    if a==1:\n",
    "        print(\"  o  \")\n",
    "    if a==2:\n",
    "        print(\"     \")\n",
    "    if a==3:\n",
    "        print(\"  *  \")\n",
    "    if a==4:\n",
    "        print(\"  *  \")\n",
    "    if a==5:\n",
    "        print(\"  *  \")"
   ]
  },
  {
   "cell_type": "code",
   "execution_count": 21,
   "id": "892efec3",
   "metadata": {},
   "outputs": [
    {
     "name": "stdout",
     "output_type": "stream",
     "text": [
      "  o  \n",
      "  *  \n",
      "  *  \n",
      "  *  \n",
      "**   \n"
     ]
    }
   ],
   "source": [
    "a=1\n",
    "for a in range(6):\n",
    "    if a==1:\n",
    "        print(\"  o  \")\n",
    "    if a==2:\n",
    "        print(\"  *  \")\n",
    "    if a==3:\n",
    "        print(\"  *  \")\n",
    "    if a==4:\n",
    "        print(\"  *  \")\n",
    "    if a==5:\n",
    "        print(\"**   \")"
   ]
  },
  {
   "cell_type": "code",
   "execution_count": 22,
   "id": "2d2fd4c2",
   "metadata": {},
   "outputs": [
    {
     "name": "stdout",
     "output_type": "stream",
     "text": [
      "*    \n",
      "*   *\n",
      "**   \n",
      "*  * \n",
      "*   *\n"
     ]
    }
   ],
   "source": [
    "a=1\n",
    "for a in range(6):\n",
    "    if a==1:\n",
    "        print(\"*    \")\n",
    "    if a==2:\n",
    "        print(\"*   *\")\n",
    "    if a==3:\n",
    "        print(\"**   \")\n",
    "    if a==4:\n",
    "        print(\"*  * \")\n",
    "    if a==5:\n",
    "        print(\"*   *\")"
   ]
  },
  {
   "cell_type": "code",
   "execution_count": 24,
   "id": "1e2c5f00",
   "metadata": {},
   "outputs": [
    {
     "name": "stdout",
     "output_type": "stream",
     "text": [
      "  *  \n",
      "  *  \n",
      "  *  \n",
      "  *  \n",
      "  *  \n"
     ]
    }
   ],
   "source": [
    "a=1\n",
    "for a in range(6):\n",
    "    if a==1:\n",
    "        print(\"  *  \")\n",
    "    if a==2:\n",
    "        print(\"  *  \")\n",
    "    if a==3:\n",
    "        print(\"  *  \")\n",
    "    if a==4:\n",
    "        print(\"  *  \")\n",
    "    if a==5:\n",
    "        print('  *  ')"
   ]
  },
  {
   "cell_type": "code",
   "execution_count": 29,
   "id": "8a62a94c",
   "metadata": {},
   "outputs": [
    {
     "name": "stdout",
     "output_type": "stream",
     "text": [
      "*    \n",
      "  *  * \n",
      "*  *  *\n",
      "*  *  *\n",
      "*  *  *\n"
     ]
    }
   ],
   "source": [
    "a=1 \n",
    "for a in range(6):\n",
    "    if a==1:\n",
    "        print(\"*    \")\n",
    "    if a==2:\n",
    "        print(\"  *  * \")\n",
    "    if a==3:\n",
    "        print(\"*  *  *\")\n",
    "    if a==4:\n",
    "        print(\"*  *  *\")\n",
    "    if a==5:\n",
    "        print(\"*  *  *\")"
   ]
  },
  {
   "cell_type": "code",
   "execution_count": 35,
   "id": "af9a7ab5",
   "metadata": {},
   "outputs": [
    {
     "name": "stdout",
     "output_type": "stream",
     "text": [
      "*    \n",
      "  *** \n",
      " *   *\n",
      " *   *\n",
      " *   *\n"
     ]
    }
   ],
   "source": [
    "a=1\n",
    "for a in range(6):\n",
    "    if a==1:\n",
    "        print(\"*    \")\n",
    "    if a==2:\n",
    "        print(\"  *** \")\n",
    "    if a==3:\n",
    "        print(\" *   *\")\n",
    "    if a==4:\n",
    "        print(\" *   *\")\n",
    "    if a==5:\n",
    "        print(\" *   *\")"
   ]
  },
  {
   "cell_type": "code",
   "execution_count": 36,
   "id": "6aa23bfe",
   "metadata": {},
   "outputs": [
    {
     "name": "stdout",
     "output_type": "stream",
     "text": [
      " *** \n",
      "*   *\n",
      "*   *\n",
      "*   *\n",
      " *** \n"
     ]
    }
   ],
   "source": [
    "a=1\n",
    "for a in range(6):\n",
    "    if a==1:\n",
    "        print(\" *** \")\n",
    "    if a==2:\n",
    "        print(\"*   *\")\n",
    "    if a==3:\n",
    "        print(\"*   *\")\n",
    "    if a==4:\n",
    "        print(\"*   *\")\n",
    "    if a==5:\n",
    "        print(\" *** \")"
   ]
  },
  {
   "cell_type": "code",
   "execution_count": 37,
   "id": "0e96e299",
   "metadata": {},
   "outputs": [
    {
     "name": "stdout",
     "output_type": "stream",
     "text": [
      "**** \n",
      "*   *\n",
      "**** \n",
      "*\n",
      "*\n"
     ]
    }
   ],
   "source": [
    "a=1\n",
    "for a in range(6):\n",
    "    if a==1:\n",
    "        print(\"**** \")\n",
    "    if a==2:\n",
    "        print(\"*   *\")\n",
    "    if a==3:\n",
    "        print(\"**** \")\n",
    "    if a==4:\n",
    "        print(\"*\")\n",
    "    if a==5:\n",
    "        print(\"*\")"
   ]
  },
  {
   "cell_type": "code",
   "execution_count": 4,
   "id": "af5a0920",
   "metadata": {},
   "outputs": [
    {
     "name": "stdout",
     "output_type": "stream",
     "text": [
      " *** \n",
      "*   *\n",
      "*   *\n",
      "* * *\n",
      " *** **\n"
     ]
    }
   ],
   "source": [
    "a=1\n",
    "for a in range(6):\n",
    "    if a==1:\n",
    "        print(\" *** \")\n",
    "    if a==2:\n",
    "        print(\"*   *\")\n",
    "    if a==3:\n",
    "        print(\"*   *\")\n",
    "    if a==4:\n",
    "        print(\"* * *\")\n",
    "    if a==5:\n",
    "        print(\" *** **\")"
   ]
  },
  {
   "cell_type": "code",
   "execution_count": 13,
   "id": "32b78b6b",
   "metadata": {},
   "outputs": [
    {
     "name": "stdout",
     "output_type": "stream",
     "text": [
      "*  **\n",
      "* *  \n",
      "**   \n",
      "*    \n",
      "*    \n"
     ]
    }
   ],
   "source": [
    "a=1\n",
    "for a in range(6):\n",
    "    if a==1:\n",
    "        print(\"*  **\")\n",
    "    if a==2:\n",
    "        print(\"* *  \")\n",
    "    if a==3:\n",
    "        print(\"**   \")\n",
    "    if a==4:\n",
    "        print(\"*    \")\n",
    "    if a==5:\n",
    "        print(\"*    \")"
   ]
  },
  {
   "cell_type": "code",
   "execution_count": 11,
   "id": "14c7e490",
   "metadata": {},
   "outputs": [
    {
     "name": "stdout",
     "output_type": "stream",
     "text": [
      " ****\n",
      "*    \n",
      " ****\n",
      "    *\n",
      "*****\n"
     ]
    }
   ],
   "source": [
    "a=1\n",
    "for a in range(6):\n",
    "    if a==1:\n",
    "        print(\" ****\")\n",
    "    if a==2:\n",
    "        print(\"*    \")\n",
    "    if a==3:\n",
    "        print(\" ****\")\n",
    "    if a==4:\n",
    "        print(\"    *\")\n",
    "    if a==5:\n",
    "        print(\"*****\")"
   ]
  },
  {
   "cell_type": "code",
   "execution_count": 16,
   "id": "faf8d1fd",
   "metadata": {},
   "outputs": [
    {
     "name": "stdout",
     "output_type": "stream",
     "text": [
      "  *  \n",
      "*****\n",
      "  *  \n",
      "  *  \n",
      "   **\n"
     ]
    }
   ],
   "source": [
    "a=1\n",
    "for a in range(6):\n",
    "    if a==1:\n",
    "        print(\"  *  \")\n",
    "    if a==2:\n",
    "        print(\"*****\")\n",
    "    if a==3:\n",
    "        print(\"  *  \")\n",
    "    if a==4:\n",
    "        print(\"  *  \")\n",
    "    if a==5:\n",
    "        print(\"   **\")"
   ]
  },
  {
   "cell_type": "code",
   "execution_count": 17,
   "id": "a3885842",
   "metadata": {},
   "outputs": [
    {
     "name": "stdout",
     "output_type": "stream",
     "text": [
      "*   *\n",
      "*   *\n",
      "*   *\n",
      "*   *\n",
      " ***  *\n"
     ]
    }
   ],
   "source": [
    "a=1\n",
    "for a in range(6):\n",
    "    if a==1:\n",
    "        print(\"*   *\")\n",
    "    if a==2:\n",
    "        print(\"*   *\")\n",
    "    if a==3:\n",
    "        print(\"*   *\")\n",
    "    if a==4:\n",
    "        print(\"*   *\")\n",
    "    if a==5:\n",
    "        print(\" ***  *\")"
   ]
  },
  {
   "cell_type": "code",
   "execution_count": 19,
   "id": "8d2eed6f",
   "metadata": {},
   "outputs": [
    {
     "name": "stdout",
     "output_type": "stream",
     "text": [
      "*   *\n",
      "*   *\n",
      "*   *\n",
      " * * \n",
      "  *  \n"
     ]
    }
   ],
   "source": [
    "a=1\n",
    "for a in range(6):\n",
    "    if a==1:\n",
    "        print(\"*   *\")\n",
    "    if a==2:\n",
    "        print(\"*   *\")\n",
    "    if a==3:\n",
    "        print(\"*   *\")\n",
    "    if a==4:\n",
    "        print(\" * * \")\n",
    "    if a==5:\n",
    "        print(\"  *  \")"
   ]
  },
  {
   "cell_type": "code",
   "execution_count": 2,
   "id": "3338ef6c",
   "metadata": {},
   "outputs": [
    {
     "name": "stdout",
     "output_type": "stream",
     "text": [
      "*     *\n",
      "*     *\n",
      "*  *  *\n",
      "**   **\n",
      "*     *\n"
     ]
    }
   ],
   "source": [
    "a=1\n",
    "for a in range(6):\n",
    "    if a==1:\n",
    "        print(\"*     *\")\n",
    "    if a==2:\n",
    "        print(\"*     *\")\n",
    "    if a==3:\n",
    "        print(\"*  *  *\")\n",
    "    if a==4:\n",
    "        print(\"**   **\")\n",
    "    if a==5:\n",
    "        print(\"*     *\")"
   ]
  },
  {
   "cell_type": "code",
   "execution_count": 4,
   "id": "aaa9eacc",
   "metadata": {},
   "outputs": [
    {
     "name": "stdout",
     "output_type": "stream",
     "text": [
      "*   *\n",
      " * * \n",
      "  *  \n",
      " * * \n",
      "*   *\n"
     ]
    }
   ],
   "source": [
    "a=1\n",
    "for a in range(6):\n",
    "    if a==1:\n",
    "        print(\"*   *\")\n",
    "    if a==2:\n",
    "        print(\" * * \")\n",
    "    if a==3:\n",
    "        print(\"  *  \")\n",
    "    if a==4:\n",
    "        print(\" * * \")\n",
    "    if a==5:\n",
    "        print(\"*   *\")\n",
    "        "
   ]
  },
  {
   "cell_type": "code",
   "execution_count": 6,
   "id": "da257278",
   "metadata": {},
   "outputs": [
    {
     "name": "stdout",
     "output_type": "stream",
     "text": [
      "**  *\n",
      "  ** \n",
      "   * \n",
      "   * \n",
      " **  \n"
     ]
    }
   ],
   "source": [
    "a=1\n",
    "for a in range(6):\n",
    "    if a==1:\n",
    "        print(\"**  *\")\n",
    "    if a==2:\n",
    "        print(\"  ** \")\n",
    "    if a==3:\n",
    "        print(\"   * \")\n",
    "    if a==4:\n",
    "        print(\"   * \")\n",
    "    if a==5:\n",
    "        print(\" **  \")"
   ]
  },
  {
   "cell_type": "markdown",
   "id": "b35b8bf9",
   "metadata": {},
   "source": [
    "#"
   ]
  },
  {
   "cell_type": "code",
   "execution_count": 8,
   "id": "8638e18b",
   "metadata": {},
   "outputs": [
    {
     "name": "stdout",
     "output_type": "stream",
     "text": [
      "*****\n",
      "   * \n",
      "  *  \n",
      " *   \n",
      "*****\n"
     ]
    }
   ],
   "source": [
    "a=1\n",
    "for a in range(6):\n",
    "    if a==1:\n",
    "        print(\"*****\")\n",
    "    if a==2:\n",
    "        print(\"   * \")\n",
    "    if a==3:\n",
    "        print(\"  *  \")\n",
    "    if a==4:\n",
    "        print(\" *   \")\n",
    "    if a==5:\n",
    "        print(\"*****\")"
   ]
  },
  {
   "cell_type": "code",
   "execution_count": null,
   "id": "2344910f",
   "metadata": {},
   "outputs": [],
   "source": []
  }
 ],
 "metadata": {
  "kernelspec": {
   "display_name": "Python 3 (ipykernel)",
   "language": "python",
   "name": "python3"
  },
  "language_info": {
   "codemirror_mode": {
    "name": "ipython",
    "version": 3
   },
   "file_extension": ".py",
   "mimetype": "text/x-python",
   "name": "python",
   "nbconvert_exporter": "python",
   "pygments_lexer": "ipython3",
   "version": "3.9.13"
  }
 },
 "nbformat": 4,
 "nbformat_minor": 5
}
